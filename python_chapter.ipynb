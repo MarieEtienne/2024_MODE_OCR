{
  "cells": [
    {
      "cell_type": "raw",
      "metadata": {},
      "source": [
        "---\n",
        "title: \"Chapter : statistical tests with dependent data\"\n",
        "execute: \n",
        "  freeze: auto\n",
        "output: \n",
        "  html_document:\n",
        "   toc: true\n",
        "   toc_float: true\n",
        "---"
      ],
      "id": "12205914"
    },
    {
      "cell_type": "markdown",
      "metadata": {},
      "source": [
        "This chapter is a simple example using python\n",
        "\n",
        "You can import python libraries using the code\n"
      ],
      "id": "0b0fd269"
    },
    {
      "cell_type": "code",
      "metadata": {},
      "source": [
        "import pandas as pd\n",
        "import numpy as np"
      ],
      "id": "79fcc9bb",
      "execution_count": null,
      "outputs": []
    },
    {
      "cell_type": "markdown",
      "metadata": {},
      "source": [
        "and then describe the purpose of your chapter as well as executing python command.\n",
        "\n",
        "\n",
        "For example a basic summary of a dataset is given by \n"
      ],
      "id": "6da04bd2"
    },
    {
      "cell_type": "code",
      "metadata": {},
      "source": [
        "df = pd.read_csv(\"https://gist.githubusercontent.com/slopp/ce3b90b9168f2f921784de84fa445651/raw/4ecf3041f0ed4913e7c230758733948bc561f434/penguins.csv\")"
      ],
      "id": "ba650776",
      "execution_count": null,
      "outputs": []
    },
    {
      "cell_type": "markdown",
      "metadata": {},
      "source": [
        "and produce a graph\n"
      ],
      "id": "0aebcbee"
    },
    {
      "cell_type": "code",
      "metadata": {},
      "source": [
        "df.boxplot(by = 'species', column = 'body_mass_g')  "
      ],
      "id": "791c5b3a",
      "execution_count": null,
      "outputs": []
    }
  ],
  "metadata": {
    "kernelspec": {
      "display_name": "Python 3",
      "language": "python",
      "name": "python3"
    }
  },
  "nbformat": 4,
  "nbformat_minor": 5
}